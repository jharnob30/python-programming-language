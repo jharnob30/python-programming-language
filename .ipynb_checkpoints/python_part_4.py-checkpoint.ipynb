{
 "cells": [
  {
   "cell_type": "markdown",
   "id": "84b68223",
   "metadata": {},
   "source": [
    "# Learn\n",
    "1. 2D Collections\n",
    "2. Dictionaries\n",
    "3.\n",
    "\n"
   ]
  },
  {
   "cell_type": "markdown",
   "id": "2a287925",
   "metadata": {},
   "source": [
    "## 2D List"
   ]
  },
  {
   "cell_type": "code",
   "execution_count": 6,
   "id": "2e36f22b",
   "metadata": {},
   "outputs": [
    {
     "name": "stdout",
     "output_type": "stream",
     "text": [
      "[['Mango', 'Banana', 'Apple'], ['Shawrma', 'Coffee', 'Fries'], ['Bike', 'Metro', 'Car']]\n",
      "['Mango', 'Banana', 'Apple']\n",
      "['Bike', 'Metro', 'Car']\n",
      "Fries\n"
     ]
    }
   ],
   "source": [
    "fruits = [\"Mango\", \"Banana\", \"Apple\"]\n",
    "snacks = [\"Shawrma\", \"Coffee\", \"Fries\"]\n",
    "vehicles = [\"Bike\", \"Metro\", \"Car\"]\n",
    "\n",
    "#2d list\n",
    "all = [fruits,snacks,vehicles]\n",
    "print(all)\n",
    "print(all[0])\n",
    "print(all[2])\n",
    "\n",
    "print(all[1][2]) #coordinates 2d\n"
   ]
  },
  {
   "cell_type": "code",
   "execution_count": 16,
   "id": "daef6f81",
   "metadata": {},
   "outputs": [
    {
     "name": "stdout",
     "output_type": "stream",
     "text": [
      "Fries\n",
      "['Mango', 'Banana', 'Apple']\n",
      "['Shawrma', 'Coffee', 'Fries']\n",
      "['Bike', 'Metro', 'Car']\n",
      "Mango Banana Apple \n",
      "Shawrma Coffee Fries \n",
      "Bike Metro Car \n"
     ]
    }
   ],
   "source": [
    "#2d list\n",
    "all = [[\"Mango\", \"Banana\", \"Apple\"],\n",
    "        [\"Shawrma\", \"Coffee\", \"Fries\"],\n",
    "        [\"Bike\", \"Metro\", \"Car\"]]\n",
    "    \n",
    "print(all[1][2]) #coordinates 2d\n",
    "\n",
    "for collection in all:\n",
    "    print(collection)\n",
    "    \n",
    "    \n",
    "for collection in all:\n",
    "    for thing in collection:\n",
    "        print(thing, end=\" \")\n",
    "    print()\n"
   ]
  },
  {
   "cell_type": "code",
   "execution_count": 21,
   "id": "53e6c2b5",
   "metadata": {},
   "outputs": [
    {
     "name": "stdout",
     "output_type": "stream",
     "text": [
      "Mango Banana Apple \n",
      "Shawrma Coffee Fries \n",
      "Bike Metro Car \n"
     ]
    }
   ],
   "source": [
    "#2d list of tuples\n",
    "all = [(\"Mango\", \"Banana\", \"Apple\"),\n",
    "        (\"Shawrma\", \"Coffee\", \"Fries\"),\n",
    "        (\"Bike\", \"Metro\", \"Car\")]\n",
    "\n",
    "for collection in all:\n",
    "    for thing in collection:\n",
    "        print(thing, end=\" \")\n",
    "    print()"
   ]
  },
  {
   "cell_type": "code",
   "execution_count": 20,
   "id": "2c0186d8",
   "metadata": {},
   "outputs": [
    {
     "name": "stdout",
     "output_type": "stream",
     "text": [
      "Mango Banana Apple \n",
      "Shawrma Coffee Fries \n",
      "Bike Metro Car \n"
     ]
    }
   ],
   "source": [
    "#2d tuple of tuples\n",
    "all = ((\"Mango\", \"Banana\", \"Apple\"),\n",
    "        (\"Shawrma\", \"Coffee\", \"Fries\"),\n",
    "        (\"Bike\", \"Metro\", \"Car\"))\n",
    "\n",
    "for collection in all:\n",
    "    for thing in collection:\n",
    "        print(thing, end=\" \")\n",
    "    print()"
   ]
  },
  {
   "cell_type": "code",
   "execution_count": 23,
   "id": "86a16ef7",
   "metadata": {},
   "outputs": [
    {
     "name": "stdout",
     "output_type": "stream",
     "text": [
      "Banana Mango Apple \n",
      "Fries Shawrma Coffee \n",
      "Car Metro Bike \n"
     ]
    }
   ],
   "source": [
    "#2d tuple of sets\n",
    "all = ({\"Mango\", \"Banana\", \"Apple\"},\n",
    "        {\"Shawrma\", \"Coffee\", \"Fries\"},\n",
    "        {\"Bike\", \"Metro\", \"Car\"})\n",
    "\n",
    "for collection in all:\n",
    "    for thing in collection:\n",
    "        print(thing, end=\" \")\n",
    "    print()"
   ]
  },
  {
   "cell_type": "markdown",
   "id": "395066f5",
   "metadata": {},
   "source": [
    "## Dictionary\n",
    "collection of {Key:Value} pairs. Ordered and changeable. No dups."
   ]
  },
  {
   "cell_type": "code",
   "execution_count": 7,
   "id": "0f2ad0dd",
   "metadata": {},
   "outputs": [
    {
     "name": "stdout",
     "output_type": "stream",
     "text": [
      "['__class__', '__class_getitem__', '__contains__', '__delattr__', '__delitem__', '__dir__', '__doc__', '__eq__', '__format__', '__ge__', '__getattribute__', '__getitem__', '__getstate__', '__gt__', '__hash__', '__init__', '__init_subclass__', '__ior__', '__iter__', '__le__', '__len__', '__lt__', '__ne__', '__new__', '__or__', '__reduce__', '__reduce_ex__', '__repr__', '__reversed__', '__ror__', '__setattr__', '__setitem__', '__sizeof__', '__str__', '__subclasshook__', 'clear', 'copy', 'fromkeys', 'get', 'items', 'keys', 'pop', 'popitem', 'setdefault', 'update', 'values']\n"
     ]
    }
   ],
   "source": [
    "capitals = {\n",
    "    \"China\": \"Beijing\",\n",
    "    \"Russia\": \"Moscow\",\n",
    "    \"Bangladesh\": \"Dhaka\"}\n",
    "\n",
    "print(dir(capitals))"
   ]
  },
  {
   "cell_type": "code",
   "execution_count": 37,
   "id": "b0006555",
   "metadata": {
    "scrolled": true
   },
   "outputs": [
    {
     "name": "stdout",
     "output_type": "stream",
     "text": [
      "Moscow\n",
      "None\n",
      "{'China': 'Beijing', 'Russia': 'Moscow', 'Bangladesh': 'Dhaka', 'Germany': 'Berlin'}\n",
      "{'China': 'Beijing', 'Russia': 'Moscow', 'Bangladesh': 'Dhaka', 'Germany': 'Berlin', 'USA': 'Detroit'}\n",
      "Detroit\n",
      "{'China': 'Beijing', 'Russia': 'Moscow', 'Bangladesh': 'Dhaka', 'Germany': 'Berlin'}\n",
      "{'China': 'Beijing', 'Russia': 'Moscow', 'Bangladesh': 'Dhaka', 'Germany': 'Berlin', 'USA': 'Detroit'}\n",
      "('USA', 'Detroit')\n",
      "{'China': 'Beijing', 'Russia': 'Moscow', 'Bangladesh': 'Dhaka', 'Germany': 'Berlin'}\n",
      "{}\n",
      "{'China': 'Beijing', 'Russia': 'Moscow', 'Bangladesh': 'Dhaka'}\n",
      "dict_keys(['China', 'Russia', 'Bangladesh'])\n",
      "dict_values(['Beijing', 'Moscow', 'Dhaka'])\n",
      "China\n",
      "Russia\n",
      "Bangladesh\n",
      "('China', 'Beijing')\n",
      "('Russia', 'Moscow')\n",
      "('Bangladesh', 'Dhaka')\n",
      "China:Beijing\n",
      "Russia:Moscow\n",
      "Bangladesh:Dhaka\n"
     ]
    }
   ],
   "source": [
    "print(capitals.get(\"Russia\"))\n",
    "print(capitals.get(\"Canada\"))\n",
    "\n",
    "capitals.update({\n",
    "    \"Germany\": \"Berlin\"\n",
    "})\n",
    "print(capitals)\n",
    "\n",
    "capitals.update({\n",
    "    \"USA\": \"Detroit\"\n",
    "})\n",
    "print(capitals)\n",
    "print(capitals.pop(\"USA\")) #DELETE\n",
    "print(capitals)\n",
    "\n",
    "capitals.update({\n",
    "    \"USA\": \"Detroit\"\n",
    "})\n",
    "print(capitals)\n",
    "print(capitals.popitem()) #DELETE latest item\n",
    "print(capitals)\n",
    "\n",
    "capitals.clear()\n",
    "print(capitals)\n",
    "\n",
    "\n",
    "capitals = {\n",
    "    \"China\": \"Beijing\",\n",
    "    \"Russia\": \"Moscow\",\n",
    "    \"Bangladesh\": \"Dhaka\"}\n",
    "print(capitals)\n",
    "\n",
    "\n",
    "keys = capitals.keys() #key values\n",
    "print(keys)\n",
    "\n",
    "values = capitals.values() #vaLUES values\n",
    "print(values)\n",
    "\n",
    "for key in capitals.keys():\n",
    "    print(key)\n",
    "    \n",
    "    \n",
    "for item in capitals.items():\n",
    "    print(item)\n",
    "\n",
    "\n",
    "for key,value in capitals.items():\n",
    "    print(f\"{key}:{value}\")\n",
    "    "
   ]
  },
  {
   "cell_type": "markdown",
   "id": "feb3a5b7",
   "metadata": {},
   "source": [
    "# Practices\n"
   ]
  },
  {
   "cell_type": "markdown",
   "id": "f6fb953f",
   "metadata": {},
   "source": [
    "## Example 1 - 2d keypad "
   ]
  },
  {
   "cell_type": "code",
   "execution_count": 30,
   "id": "53c98399",
   "metadata": {},
   "outputs": [
    {
     "name": "stdout",
     "output_type": "stream",
     "text": [
      "1 2 3 \n",
      "4 5 6 \n",
      "7 8 9 \n",
      "* 0 # \n"
     ]
    }
   ],
   "source": [
    "#cant use set because we need order.\n",
    "#tuple is faster than list and unchable that goes with the problem we need to solve\n",
    "\n",
    "#2d tuple of tuples\n",
    "keypad = ((1, 2, 3),\n",
    "        (4, 5, 6),\n",
    "        (7, 8, 9),\n",
    "        (\"*\", 0, \"#\"))\n",
    "\n",
    "for keys in keypad:\n",
    "    for key in keys:\n",
    "        print(key, end=\" \")\n",
    "    print()"
   ]
  },
  {
   "cell_type": "markdown",
   "id": "a6f7cd0d",
   "metadata": {},
   "source": [
    "## Example 2 - Quiz Game"
   ]
  },
  {
   "cell_type": "code",
   "execution_count": 28,
   "id": "86f7095a",
   "metadata": {},
   "outputs": [
    {
     "name": "stdout",
     "output_type": "stream",
     "text": [
      "---------------------------------\n",
      "Which country is known as the 'Land of the Rising Sun': \n",
      "A. Korea\n",
      "B. Thailand\n",
      "C. Japan\n",
      "D. China\n",
      "A or B or C or D?: b\n",
      "Ohnoooo!, answer is [C]\n",
      "---------------------------------\n",
      "What is the capital city of Australia?: \n",
      "A. Brisbane\n",
      "B. Canberra\n",
      "C. Melbourne\n",
      "D. Sydney\n",
      "A or B or C or D?: b\n",
      "Correct\n",
      "---------------------------------\n",
      "Which planet in our solar system is known as the 'Red Planet'?: \n",
      "A. Saturn\n",
      "B. Mars\n",
      "C. Venus\n",
      "D. Jupiter\n",
      "A or B or C or D?: b\n",
      "Correct\n",
      "---------------------------------\n",
      "What is the largest organ in the human body?: \n",
      "A. Liver\n",
      "B. Lungs\n",
      "C. Heart\n",
      "D. Skin\n",
      "A or B or C or D?: b\n",
      "Ohnoooo!, answer is [D]\n",
      "\n",
      "--------RESULT-----------\n",
      "Correct Answers: \n",
      "C   B   B   D   \n",
      "Your Guesses: \n",
      "B   B   B   B   \n",
      "2\n",
      "Total Score = 50 %\n"
     ]
    }
   ],
   "source": [
    "questions = (\"Which country is known as the 'Land of the Rising Sun': \", \n",
    "            \"What is the capital city of Australia?: \", \n",
    "            \"Which planet in our solar system is known as the 'Red Planet'?: \", \n",
    "            \"What is the largest organ in the human body?: \")\n",
    "options = ((\"A. Korea\", \"B. Thailand\", \"C. Japan\", \"D. China\"),\n",
    "           (\"A. Brisbane\", \"B. Canberra\", \"C. Melbourne\", \"D. Sydney\"),\n",
    "           (\"A. Saturn\", \"B. Mars\", \"C. Venus\", \"D. Jupiter\"),\n",
    "           (\"A. Liver\", \"B. Lungs\", \"C. Heart\", \"D. Skin\"))\n",
    "answers = (\"C\", \"B\", \"B\", \"D\")\n",
    "\n",
    "guesses = []\n",
    "score = 0\n",
    "que_num = 0\n",
    "\n",
    "for question in questions:\n",
    "    print(\"---------------------------------\")\n",
    "    print(question)\n",
    "    for option in options[que_num]:\n",
    "        print(option)\n",
    "        \n",
    "    guess = input(\"A or B or C or D?: \").upper()\n",
    "    guesses.append(guess)\n",
    "    \n",
    "    if guess == answers[que_num]:\n",
    "        score += 1\n",
    "        print(\"Correct\")\n",
    "    else:\n",
    "        print(f\"Ohnoooo!, answer is [{answers[que_num]}]\")\n",
    "        \n",
    "    que_num +=1\n",
    "\n",
    "print()\n",
    "print(\"--------RESULT-----------\")\n",
    "print(f\"Correct Answers: \")\n",
    "for answer in answers:\n",
    "    print(answer,end=\"   \")\n",
    "print() \n",
    "print(f\"Your Guesses: \")\n",
    "for guess in guesses:\n",
    "    print(guess, end=\"   \")\n",
    "print()\n",
    "print(score)\n",
    "score = int(score / len(questions)*100)\n",
    "print(f'Total Score = {score} %')\n",
    "            \n"
   ]
  },
  {
   "cell_type": "code",
   "execution_count": null,
   "id": "7b4575dd",
   "metadata": {},
   "outputs": [],
   "source": []
  },
  {
   "cell_type": "code",
   "execution_count": null,
   "id": "189a9bc7",
   "metadata": {},
   "outputs": [],
   "source": []
  },
  {
   "cell_type": "code",
   "execution_count": null,
   "id": "eaa45d6a",
   "metadata": {},
   "outputs": [],
   "source": []
  },
  {
   "cell_type": "code",
   "execution_count": null,
   "id": "2f86d149",
   "metadata": {},
   "outputs": [],
   "source": []
  },
  {
   "cell_type": "code",
   "execution_count": null,
   "id": "e7c96520",
   "metadata": {},
   "outputs": [],
   "source": []
  }
 ],
 "metadata": {
  "kernelspec": {
   "display_name": "Python 3 (ipykernel)",
   "language": "python",
   "name": "python3"
  },
  "language_info": {
   "codemirror_mode": {
    "name": "ipython",
    "version": 3
   },
   "file_extension": ".py",
   "mimetype": "text/x-python",
   "name": "python",
   "nbconvert_exporter": "python",
   "pygments_lexer": "ipython3",
   "version": "3.11.5"
  }
 },
 "nbformat": 4,
 "nbformat_minor": 5
}
