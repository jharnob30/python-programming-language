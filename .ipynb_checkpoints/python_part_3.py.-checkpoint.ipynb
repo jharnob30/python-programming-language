{
 "cells": [
  {
   "cell_type": "markdown",
   "id": "84b68223",
   "metadata": {},
   "source": [
    "# Learn\n",
    "1. while loops\n",
    "2. For loops\n",
    "3. Nested Loops\n",
    "4. Collections (List)\n",
    "5. Collections (Set)\n",
    "6. Collections (Tuple)\n"
   ]
  },
  {
   "cell_type": "markdown",
   "id": "2a287925",
   "metadata": {},
   "source": [
    "## While Loop\n",
    "\n",
    "execute some code WHILE some condition remains true\n"
   ]
  },
  {
   "cell_type": "code",
   "execution_count": 1,
   "id": "2e36f22b",
   "metadata": {},
   "outputs": [
    {
     "name": "stdout",
     "output_type": "stream",
     "text": [
      "enter your name: \n",
      "you did not enter proper name\n",
      "enter your name: \n",
      "you did not enter proper name\n",
      "enter your name: \n",
      "you did not enter proper name\n",
      "enter your name: \n",
      "you did not enter proper name\n",
      "enter your name: \n",
      "you did not enter proper name\n",
      "enter your name: yo\n",
      "Hello yo\n"
     ]
    }
   ],
   "source": [
    "name = input(\"enter your name: \")\n",
    "\n",
    "while name == \"\":\n",
    "    print(\"you did not enter proper name\")\n",
    "    name = input(\"enter your name: \")\n",
    "print(f\"Hello {name}\")"
   ]
  },
  {
   "cell_type": "code",
   "execution_count": 5,
   "id": "4dbae0c2",
   "metadata": {},
   "outputs": [
    {
     "name": "stdout",
     "output_type": "stream",
     "text": [
      "enter your age: -9\n",
      "you did not enter proper age\n",
      "enter your age: 101\n",
      "you did not enter proper age\n",
      "enter your age: 100\n",
      "so you are 100\n"
     ]
    }
   ],
   "source": [
    "age = int(input(\"enter your age: \"))\n",
    "while age < 0 or age > 100:\n",
    "    print(\"you did not enter proper age\")\n",
    "    age = int(input(\"enter your age: \"))\n",
    "print(f\"so you are {age}\")"
   ]
  },
  {
   "cell_type": "code",
   "execution_count": 8,
   "id": "a6af2975",
   "metadata": {},
   "outputs": [
    {
     "name": "stdout",
     "output_type": "stream",
     "text": [
      "enter your food name (q to quit): pizza\n",
      "you are what you eat, like you said pizza\n",
      "enter your food name (q to quit): meatbox\n",
      "you are what you eat, like you said meatbox\n",
      "enter your food name (q to quit): chickenfry\n",
      "you are what you eat, like you said chickenfry\n",
      "enter your food name (q to quit): q\n",
      "Bye\n"
     ]
    }
   ],
   "source": [
    "food = input(\"enter your food name (q to quit): \")\n",
    "while not food == \"q\":\n",
    "    print(f\"you are what you eat, like you said {food}\")\n",
    "    food = input(\"enter your food name (q to quit): \")\n",
    "\n",
    "print(\"Bye\")"
   ]
  },
  {
   "cell_type": "code",
   "execution_count": 12,
   "id": "23c84640",
   "metadata": {},
   "outputs": [
    {
     "name": "stdout",
     "output_type": "stream",
     "text": [
      "Enter a # between 1-10: 11\n",
      "11 no valid\n",
      "Enter a # between 1-10: -2\n",
      "-2 no valid\n",
      "Enter a # between 1-10: 16\n",
      "16 no valid\n",
      "Enter a # between 1-10: 3\n",
      "you enterd 3\n"
     ]
    }
   ],
   "source": [
    "#or logical operator with while\n",
    "\n",
    "num = int(input(\"Enter a # between 1-10: \"))\n",
    "while num < 1 or num > 10:\n",
    "    print(f\"{num} no valid\")\n",
    "    num = int(input(\"Enter a # between 1-10: \"))\n",
    "print(f\"you enterd {num}\")\n",
    "          "
   ]
  },
  {
   "cell_type": "markdown",
   "id": "04a73ec5",
   "metadata": {},
   "source": [
    "## For Loops\n",
    "execute a block of codes for fixed number of times"
   ]
  },
  {
   "cell_type": "code",
   "execution_count": 11,
   "id": "88c8b4b6",
   "metadata": {},
   "outputs": [
    {
     "name": "stdout",
     "output_type": "stream",
     "text": [
      "1\n",
      "2\n",
      "3\n",
      "4\n",
      "4\n",
      "3\n",
      "2\n",
      "1\n",
      "1\n",
      "3\n",
      "5\n",
      "7\n",
      "9\n",
      "x\n",
      "xxxx\n",
      "xxxxxxx\n",
      "xxxxxxxxxx\n",
      "xxxxxxxxxxxxx\n",
      "xxxxxxxxxxxxxxxx\n",
      "xxxxxxxxxxxxxxxx\n",
      "xxxxxxxxxxxxx\n",
      "xxxxxxxxxx\n",
      "xxxxxxx\n",
      "xxxx\n",
      "x\n",
      "HNY\n"
     ]
    }
   ],
   "source": [
    "for x in range(1,5): #1 to 10\n",
    "    print(x)\n",
    "for x in reversed(range(1,5)): #reversed print \n",
    "    print(x)\n",
    "for x in range(1,11,2): #1 to 10 to skip steps\n",
    "    print(x)\n",
    "for x in range(1,18,3): #1 to 10 to skip steps\n",
    "    print(x*\"x\")\n",
    "for x in reversed(range(1,18,3)): #reversed print \n",
    "    print(x*\"x\")\n",
    "print(\"HNY\")"
   ]
  },
  {
   "cell_type": "code",
   "execution_count": 14,
   "id": "81def0b5",
   "metadata": {},
   "outputs": [
    {
     "name": "stdout",
     "output_type": "stream",
     "text": [
      "1\n",
      "2\n",
      "4\n",
      "5\n",
      "HNY\n"
     ]
    }
   ],
   "source": [
    "for x in range(1,6): #reversed print \n",
    "    if x == 3:\n",
    "        continue #continue to skip\n",
    "    print(x)\n",
    "print(\"HNY\")"
   ]
  },
  {
   "cell_type": "markdown",
   "id": "ec24de32",
   "metadata": {},
   "source": [
    "## Nested Loops\n",
    "\n",
    "loop within another loop\n",
    "\n"
   ]
  },
  {
   "cell_type": "code",
   "execution_count": 6,
   "id": "5ed791ef",
   "metadata": {},
   "outputs": [
    {
     "name": "stdout",
     "output_type": "stream",
     "text": [
      "1-2-3-4-5-6-7-8-9-"
     ]
    }
   ],
   "source": [
    "for x in range (1,10):\n",
    "    print(x, end=\"-\") #end can put all outputs in one line "
   ]
  },
  {
   "cell_type": "code",
   "execution_count": 13,
   "id": "be862e2d",
   "metadata": {},
   "outputs": [
    {
     "name": "stdout",
     "output_type": "stream",
     "text": [
      "012345678901234567890123456789"
     ]
    }
   ],
   "source": [
    "for x in range (3):\n",
    "    for y in range (10):\n",
    "        print(y, end=\"\")"
   ]
  },
  {
   "cell_type": "code",
   "execution_count": 17,
   "id": "7bbfe7d4",
   "metadata": {},
   "outputs": [
    {
     "name": "stdout",
     "output_type": "stream",
     "text": [
      "0000000000\n",
      "1111111111\n",
      "2222222222\n"
     ]
    }
   ],
   "source": [
    "for x in range (3):\n",
    "    for Y in range (10):\n",
    "        print(x, end=\"\")\n",
    "    print()"
   ]
  },
  {
   "cell_type": "code",
   "execution_count": 19,
   "id": "a883b7ae",
   "metadata": {},
   "outputs": [
    {
     "name": "stdout",
     "output_type": "stream",
     "text": [
      "Enter # of rows: 4\n",
      "Enter # of cols: 6\n",
      "enter symbol: +\n",
      "++++++\n",
      "++++++\n",
      "++++++\n",
      "++++++\n"
     ]
    }
   ],
   "source": [
    "rows = int(input(\"Enter # of rows: \"))\n",
    "cols = int(input(\"Enter # of cols: \"))\n",
    "symbol = input(\"enter symbol: \")\n",
    "\n",
    "for x in range (rows):\n",
    "    for y in range (cols):\n",
    "        print(symbol, end=\"\")\n",
    "    print()"
   ]
  },
  {
   "cell_type": "markdown",
   "id": "72ba9b7c",
   "metadata": {},
   "source": [
    "# Collections\n",
    "collection is single varibale used to store multiple values\n",
    "1. List\n",
    "2. Set\n",
    "3. Typle"
   ]
  },
  {
   "cell_type": "markdown",
   "id": "b24af7a4",
   "metadata": {},
   "source": [
    "## List\n",
    "[  ] ordered and changeable, duplicates ok"
   ]
  },
  {
   "cell_type": "code",
   "execution_count": 40,
   "id": "5844d838",
   "metadata": {},
   "outputs": [
    {
     "name": "stdout",
     "output_type": "stream",
     "text": [
      "['apple', 'banana', 'orange', 'coconut', 'banana']\n",
      "coconut\n",
      "['apple', 'banana']\n",
      "['coconut', 'banana']\n",
      "['banana', 'coconut', 'orange', 'banana', 'apple']\n",
      "5\n",
      "True\n",
      "apple\n",
      "banana\n",
      "orange\n",
      "coconut\n",
      "banana\n",
      "['__add__', '__class__', '__class_getitem__', '__contains__', '__delattr__', '__delitem__', '__dir__', '__doc__', '__eq__', '__format__', '__ge__', '__getattribute__', '__getitem__', '__getstate__', '__gt__', '__hash__', '__iadd__', '__imul__', '__init__', '__init_subclass__', '__iter__', '__le__', '__len__', '__lt__', '__mul__', '__ne__', '__new__', '__reduce__', '__reduce_ex__', '__repr__', '__reversed__', '__rmul__', '__setattr__', '__setitem__', '__sizeof__', '__str__', '__subclasshook__', 'append', 'clear', 'copy', 'count', 'extend', 'index', 'insert', 'pop', 'remove', 'reverse', 'sort']\n",
      "Help on list object:\n",
      "\n",
      "class list(object)\n",
      " |  list(iterable=(), /)\n",
      " |  \n",
      " |  Built-in mutable sequence.\n",
      " |  \n",
      " |  If no argument is given, the constructor creates a new empty list.\n",
      " |  The argument must be an iterable if specified.\n",
      " |  \n",
      " |  Methods defined here:\n",
      " |  \n",
      " |  __add__(self, value, /)\n",
      " |      Return self+value.\n",
      " |  \n",
      " |  __contains__(self, key, /)\n",
      " |      Return key in self.\n",
      " |  \n",
      " |  __delitem__(self, key, /)\n",
      " |      Delete self[key].\n",
      " |  \n",
      " |  __eq__(self, value, /)\n",
      " |      Return self==value.\n",
      " |  \n",
      " |  __ge__(self, value, /)\n",
      " |      Return self>=value.\n",
      " |  \n",
      " |  __getattribute__(self, name, /)\n",
      " |      Return getattr(self, name).\n",
      " |  \n",
      " |  __getitem__(...)\n",
      " |      x.__getitem__(y) <==> x[y]\n",
      " |  \n",
      " |  __gt__(self, value, /)\n",
      " |      Return self>value.\n",
      " |  \n",
      " |  __iadd__(self, value, /)\n",
      " |      Implement self+=value.\n",
      " |  \n",
      " |  __imul__(self, value, /)\n",
      " |      Implement self*=value.\n",
      " |  \n",
      " |  __init__(self, /, *args, **kwargs)\n",
      " |      Initialize self.  See help(type(self)) for accurate signature.\n",
      " |  \n",
      " |  __iter__(self, /)\n",
      " |      Implement iter(self).\n",
      " |  \n",
      " |  __le__(self, value, /)\n",
      " |      Return self<=value.\n",
      " |  \n",
      " |  __len__(self, /)\n",
      " |      Return len(self).\n",
      " |  \n",
      " |  __lt__(self, value, /)\n",
      " |      Return self<value.\n",
      " |  \n",
      " |  __mul__(self, value, /)\n",
      " |      Return self*value.\n",
      " |  \n",
      " |  __ne__(self, value, /)\n",
      " |      Return self!=value.\n",
      " |  \n",
      " |  __repr__(self, /)\n",
      " |      Return repr(self).\n",
      " |  \n",
      " |  __reversed__(self, /)\n",
      " |      Return a reverse iterator over the list.\n",
      " |  \n",
      " |  __rmul__(self, value, /)\n",
      " |      Return value*self.\n",
      " |  \n",
      " |  __setitem__(self, key, value, /)\n",
      " |      Set self[key] to value.\n",
      " |  \n",
      " |  __sizeof__(self, /)\n",
      " |      Return the size of the list in memory, in bytes.\n",
      " |  \n",
      " |  append(self, object, /)\n",
      " |      Append object to the end of the list.\n",
      " |  \n",
      " |  clear(self, /)\n",
      " |      Remove all items from list.\n",
      " |  \n",
      " |  copy(self, /)\n",
      " |      Return a shallow copy of the list.\n",
      " |  \n",
      " |  count(self, value, /)\n",
      " |      Return number of occurrences of value.\n",
      " |  \n",
      " |  extend(self, iterable, /)\n",
      " |      Extend list by appending elements from the iterable.\n",
      " |  \n",
      " |  index(self, value, start=0, stop=9223372036854775807, /)\n",
      " |      Return first index of value.\n",
      " |      \n",
      " |      Raises ValueError if the value is not present.\n",
      " |  \n",
      " |  insert(self, index, object, /)\n",
      " |      Insert object before index.\n",
      " |  \n",
      " |  pop(self, index=-1, /)\n",
      " |      Remove and return item at index (default last).\n",
      " |      \n",
      " |      Raises IndexError if list is empty or index is out of range.\n",
      " |  \n",
      " |  remove(self, value, /)\n",
      " |      Remove first occurrence of value.\n",
      " |      \n",
      " |      Raises ValueError if the value is not present.\n",
      " |  \n",
      " |  reverse(self, /)\n",
      " |      Reverse *IN PLACE*.\n",
      " |  \n",
      " |  sort(self, /, *, key=None, reverse=False)\n",
      " |      Sort the list in ascending order and return None.\n",
      " |      \n",
      " |      The sort is in-place (i.e. the list itself is modified) and stable (i.e. the\n",
      " |      order of two equal elements is maintained).\n",
      " |      \n",
      " |      If a key function is given, apply it once to each list item and sort them,\n",
      " |      ascending or descending, according to their function values.\n",
      " |      \n",
      " |      The reverse flag can be set to sort in descending order.\n",
      " |  \n",
      " |  ----------------------------------------------------------------------\n",
      " |  Class methods defined here:\n",
      " |  \n",
      " |  __class_getitem__(...) from builtins.type\n",
      " |      See PEP 585\n",
      " |  \n",
      " |  ----------------------------------------------------------------------\n",
      " |  Static methods defined here:\n",
      " |  \n",
      " |  __new__(*args, **kwargs) from builtins.type\n",
      " |      Create and return a new object.  See help(type) for accurate signature.\n",
      " |  \n",
      " |  ----------------------------------------------------------------------\n",
      " |  Data and other attributes defined here:\n",
      " |  \n",
      " |  __hash__ = None\n",
      "\n",
      "None\n"
     ]
    }
   ],
   "source": [
    "fruits = [\"apple\", \"banana\", \"orange\", \"coconut\", \"banana\"]\n",
    "print(fruits)\n",
    "print(fruits[3])\n",
    "print(fruits[0:2])\n",
    "print(fruits[-2:])\n",
    "print(fruits[::-1])\n",
    "print(len(fruits))\n",
    "print(\"apple\" in fruits)\n",
    "\n",
    "for fruit in fruits:\n",
    "    print(fruit)\n",
    "    \n",
    "print(dir(fruits))\n",
    "print(help(fruits))"
   ]
  },
  {
   "cell_type": "code",
   "execution_count": 41,
   "id": "bc7a6215",
   "metadata": {},
   "outputs": [
    {
     "name": "stdout",
     "output_type": "stream",
     "text": [
      "['mango', 'banana', 'orange', 'coconut', 'banana']\n",
      "['mango', 'banana', 'orange', 'coconut', 'banana', 'pineapple']\n",
      "['mango', 'banana', 'coconut', 'banana', 'pineapple']\n",
      "['dragon', 'mango', 'banana', 'coconut', 'banana', 'pineapple']\n",
      "['banana', 'banana', 'coconut', 'dragon', 'mango', 'pineapple']\n",
      "['pineapple', 'mango', 'dragon', 'coconut', 'banana', 'banana']\n",
      "3\n",
      "2\n",
      "[]\n"
     ]
    }
   ],
   "source": [
    "#change list\n",
    "fruits[0] = \"mango\" #not apple\n",
    "print(fruits)\n",
    "\n",
    "#append adds in last\n",
    "fruits.append(\"pineapple\")\n",
    "print(fruits)\n",
    "\n",
    "#remove\n",
    "fruits.remove(\"orange\")\n",
    "print(fruits)\n",
    "\n",
    "#insert adds in first\n",
    "fruits.insert(0, \"dragon\")\n",
    "print(fruits)\n",
    "\n",
    "#sort\n",
    "fruits.sort()\n",
    "print(fruits)\n",
    "\n",
    "#sort\n",
    "fruits.reverse()\n",
    "print(fruits)\n",
    "\n",
    "#index\n",
    "print(fruits.index(\"coconut\"))\n",
    "\n",
    "#count\n",
    "print(fruits.count(\"banana\"))\n",
    "\n",
    "#clear\n",
    "fruits.clear()\n",
    "print(fruits)"
   ]
  },
  {
   "cell_type": "markdown",
   "id": "510a35a5",
   "metadata": {},
   "source": [
    "## Set\n",
    "{} unordered and immutable but add/remove  Ok. No duplicate"
   ]
  },
  {
   "cell_type": "code",
   "execution_count": 7,
   "id": "1d3b52ee",
   "metadata": {},
   "outputs": [
    {
     "name": "stdout",
     "output_type": "stream",
     "text": [
      "{'orange', 'apple', 'coconut', 'banana'}\n",
      "{'pineapple', 'coconut', 'orange', 'banana', 'apple'}\n",
      "{'pineapple', 'coconut', 'banana', 'apple'}\n",
      "pineapple\n",
      "set()\n"
     ]
    }
   ],
   "source": [
    "fruits = {\"apple\", \"banana\", \"orange\", \"coconut\", \"banana\"}\n",
    "print(fruits)\n",
    "\n",
    "#adds\n",
    "fruits.add(\"pineapple\")\n",
    "print(fruits)\n",
    "\n",
    "#remove\n",
    "fruits.remove(\"orange\")\n",
    "print(fruits)\n",
    "\n",
    "print(fruits.pop())\n",
    "fruits.clear()\n",
    "print(fruits)"
   ]
  },
  {
   "cell_type": "markdown",
   "id": "aa4ed550",
   "metadata": {},
   "source": [
    "## Tuple\n",
    "( ) ordered and immutable.  duplicate ok. Faster Better"
   ]
  },
  {
   "cell_type": "code",
   "execution_count": 14,
   "id": "a1199a16",
   "metadata": {},
   "outputs": [
    {
     "name": "stdout",
     "output_type": "stream",
     "text": [
      "('apple', 'banana', 'orange', 'coconut', 'banana')\n",
      "5\n",
      "3\n",
      "2\n",
      "apple\n",
      "banana\n",
      "orange\n",
      "coconut\n",
      "banana\n"
     ]
    }
   ],
   "source": [
    "fruits = (\"apple\", \"banana\", \"orange\", \"coconut\", \"banana\")\n",
    "print(fruits)\n",
    "\n",
    "print(len(fruits))\n",
    "print(fruits.index(\"coconut\"))\n",
    "print(fruits.count(\"banana\"))\n",
    "\n",
    "for fruit in fruits:\n",
    "    print(fruit)"
   ]
  },
  {
   "cell_type": "code",
   "execution_count": null,
   "id": "daef6f81",
   "metadata": {},
   "outputs": [],
   "source": []
  },
  {
   "cell_type": "markdown",
   "id": "feb3a5b7",
   "metadata": {},
   "source": [
    "# Practices\n"
   ]
  },
  {
   "cell_type": "markdown",
   "id": "f6fb953f",
   "metadata": {},
   "source": [
    "## Example 1 - Compound interest calculater using while loop"
   ]
  },
  {
   "cell_type": "code",
   "execution_count": 7,
   "id": "53c98399",
   "metadata": {},
   "outputs": [
    {
     "name": "stdout",
     "output_type": "stream",
     "text": [
      "user please enter your rate amound: 5000\n",
      "user please enter interest rate: 7\n",
      "user please enter year: 2\n",
      "balance after 2.0 year/s: total 5724.5bdt\n"
     ]
    }
   ],
   "source": [
    "principle = 0\n",
    "time = 0\n",
    "rate = 0\n",
    "\n",
    "while principle <= 0:\n",
    "              principle = float(input(f\"user please enter your rate amound: \"))\n",
    "              if principle <= 0:\n",
    "                  print(\"principle cant be zero or less\")\n",
    "while rate <= 0:\n",
    "              rate = float(input(f\"user please enter interest rate: \"))\n",
    "              if rate <= 0:\n",
    "                  print(\"rate cant be zero or less\")  \n",
    "\n",
    "while time <= 0:\n",
    "              time = float(input(f\"user please enter year: \"))\n",
    "              if time <= 0:\n",
    "                  print(\"time cant be zero or less\")                      \n",
    "total = principle*pow((1+rate/100),time)          \n",
    "print(f\"balance after {time} year/s: total {total}bdt\")                 \n",
    "    \n"
   ]
  },
  {
   "cell_type": "markdown",
   "id": "0683f919",
   "metadata": {},
   "source": [
    "## Example 2 - Countdown timer using loops"
   ]
  },
  {
   "cell_type": "code",
   "execution_count": 19,
   "id": "0fcc5065",
   "metadata": {},
   "outputs": [
    {
     "name": "stdout",
     "output_type": "stream",
     "text": [
      "3 secs\n"
     ]
    }
   ],
   "source": [
    "import time\n",
    "time.sleep(3)\n",
    "print(\"3 secs\") # 3 secs stop watch python function demo"
   ]
  },
  {
   "cell_type": "code",
   "execution_count": 25,
   "id": "4498b9b1",
   "metadata": {},
   "outputs": [
    {
     "name": "stdout",
     "output_type": "stream",
     "text": [
      "enter time in seconds: 3\n",
      "0\n",
      "1\n",
      "2\n",
      "It's 3 seconds, time's up\n"
     ]
    }
   ],
   "source": [
    "my_time = int(input(\"enter time in seconds: \"))\n",
    "for x in range(0, my_time):\n",
    "    print(x)\n",
    "    time.sleep(1)\n",
    "print(f\"It's {my_time} seconds, time's up\")"
   ]
  },
  {
   "cell_type": "code",
   "execution_count": 26,
   "id": "ceeb91bf",
   "metadata": {},
   "outputs": [
    {
     "name": "stdout",
     "output_type": "stream",
     "text": [
      "enter time in seconds: 5\n",
      "5\n",
      "4\n",
      "3\n",
      "2\n",
      "1\n",
      "It's 5 seconds, time's up\n"
     ]
    }
   ],
   "source": [
    "my_time = int(input(\"enter time in seconds: \"))\n",
    "for x in range(my_time, 0, -1): #using steps\n",
    "    print(x)\n",
    "    time.sleep(1)\n",
    "print(f\"It's {my_time} seconds, time's up\")"
   ]
  },
  {
   "cell_type": "code",
   "execution_count": 27,
   "id": "337ec30f",
   "metadata": {},
   "outputs": [
    {
     "name": "stdout",
     "output_type": "stream",
     "text": [
      "enter time in seconds: 11\n",
      "00:00:11\n",
      "00:00:10\n",
      "00:00:09\n",
      "00:00:08\n",
      "00:00:07\n",
      "00:00:06\n",
      "00:00:05\n",
      "00:00:04\n",
      "00:00:03\n",
      "00:00:02\n",
      "00:00:01\n",
      "It's 11 seconds, time's up\n"
     ]
    }
   ],
   "source": [
    "my_time = int(input(\"enter time in seconds: \"))\n",
    "\n",
    "for x in range(my_time, 0, -1): #using steps\n",
    "    seconds = x % 60 \n",
    "    print(f\"00:00:{seconds:02}\") #format specifier to pad 00 sec\n",
    "    time.sleep(1)\n",
    "print(f\"It's {my_time} seconds, time's up\")"
   ]
  },
  {
   "cell_type": "markdown",
   "id": "0a2cd08c",
   "metadata": {},
   "source": [
    "## Example 3 - Shopping cart Program"
   ]
  },
  {
   "cell_type": "code",
   "execution_count": 17,
   "id": "8116cce5",
   "metadata": {},
   "outputs": [
    {
     "name": "stdout",
     "output_type": "stream",
     "text": [
      "enter a food to buy (q to quit): Pizza\n",
      "Price of Pizza bdt 34\n",
      "enter a food to buy (q to quit): coke\n",
      "Price of coke bdt 122\n",
      "enter a food to buy (q to quit): q\n",
      "------------Your Cart-------------\n",
      "Pizza Your total 156.0\n"
     ]
    }
   ],
   "source": [
    "foods = []\n",
    "prices = []\n",
    "total = 0\n",
    "\n",
    "while True:\n",
    "    food = input(\"enter a food to buy (q to quit): \")\n",
    "    if food.lower() == \"q\":\n",
    "        break\n",
    "    else:\n",
    "        price = float(input(f\"Price of {food} bdt \"))\n",
    "        foods.append(food)\n",
    "        prices.append(price)\n",
    "\n",
    "print(\"------------Your Cart-------------\")  \n",
    "\n",
    "for food in foods:\n",
    "    print(food, end=\" \")\n",
    "print()\n",
    "for price in prices:\n",
    "    total +=price\n",
    "    \n",
    "print(f\"Your total {total}\")"
   ]
  },
  {
   "cell_type": "code",
   "execution_count": null,
   "id": "86f7095a",
   "metadata": {},
   "outputs": [],
   "source": []
  },
  {
   "cell_type": "code",
   "execution_count": null,
   "id": "869d324b",
   "metadata": {},
   "outputs": [],
   "source": []
  }
 ],
 "metadata": {
  "kernelspec": {
   "display_name": "Python 3 (ipykernel)",
   "language": "python",
   "name": "python3"
  },
  "language_info": {
   "codemirror_mode": {
    "name": "ipython",
    "version": 3
   },
   "file_extension": ".py",
   "mimetype": "text/x-python",
   "name": "python",
   "nbconvert_exporter": "python",
   "pygments_lexer": "ipython3",
   "version": "3.11.5"
  }
 },
 "nbformat": 4,
 "nbformat_minor": 5
}
