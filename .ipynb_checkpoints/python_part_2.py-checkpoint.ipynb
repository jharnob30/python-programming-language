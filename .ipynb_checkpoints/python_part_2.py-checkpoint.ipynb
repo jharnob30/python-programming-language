{
 "cells": [
  {
   "cell_type": "markdown",
   "id": "e5fe43ff",
   "metadata": {},
   "source": [
    "# Learn\n",
    "<br/>\n",
    "<li> If Statements </li>\n",
    "<li> Logical Operators </li>\n",
    "<li> String functions </li>\n",
    "<li> String Indexing </li>\n",
    "<li> Format Specifiers  </li>"
   ]
  },
  {
   "cell_type": "markdown",
   "id": "5d3b26fd",
   "metadata": {},
   "source": [
    "## if statements\n",
    "Do if some task only if is true, else do some something else"
   ]
  },
  {
   "cell_type": "code",
   "execution_count": null,
   "id": "7bb13af7",
   "metadata": {},
   "outputs": [],
   "source": [
    "age = int(input(\"enter your age: \"))\n",
    "\n",
    "if age < 0:\n",
    "    print(\"You haven't born yet\")\n",
    "elif age > 100:\n",
    "    print(\"Are you an alchemist?\")\n",
    "elif age >= 18:\n",
    "    print(\"You can access\")\n",
    "else:\n",
    "    print(\"You can't access\")\n",
    "\n",
    "#=====================\n",
    "\n",
    "name = input(\"Enter your name: \")\n",
    "\n",
    "if name ==\"\":\n",
    "    print(\"Hello, Mr. Nameless\")\n",
    "else:\n",
    "    print(f\"Hello, Mr. {name}\")   "
   ]
  },
  {
   "cell_type": "code",
   "execution_count": null,
   "id": "a5bbe0a3",
   "metadata": {},
   "outputs": [],
   "source": [
    "#Boolean if statement\n",
    "\n",
    "for_sale = True\n",
    "\n",
    "if for_sale:\n",
    "    print(\"For sale\")\n",
    "else:\n",
    "    print(\"not for sale\")"
   ]
  },
  {
   "cell_type": "markdown",
   "id": "bbcfffdf",
   "metadata": {},
   "source": [
    "## Logical Operators\n",
    "\n",
    "logical operators = evaluate multiple conditions (or, and, not)\n",
    "\n",
    "<li>or = at least one condition must be True\n",
    "<li> and = both conditions must be True\n",
    "<li>not = inverts the condition (not False, not True)"
   ]
  },
  {
   "cell_type": "code",
   "execution_count": 13,
   "id": "34be91f4",
   "metadata": {},
   "outputs": [
    {
     "name": "stdout",
     "output_type": "stream",
     "text": [
      "The outdoor event is still scheduled\n",
      "The outdoor event is cancelled\n"
     ]
    }
   ],
   "source": [
    "#or\n",
    "temp = 25\n",
    "is_raining = False\n",
    "\n",
    "if temp > 35 or temp < 0 or is_raining:\n",
    "    print(\"The outdoor event is cancelled\")\n",
    "else:\n",
    "    print(\"The outdoor event is still scheduled\")\n",
    "    \n",
    "if temp > 15 and temp < 30 and not is_raining:\n",
    "    print(\"The outdoor event is cancelled\")\n",
    "else:\n",
    "    print(\"The outdoor event is still scheduled\")"
   ]
  },
  {
   "cell_type": "markdown",
   "id": "f29eae55",
   "metadata": {},
   "source": [
    " Logical Operators\n",
    "logical operators = evaluate multiple conditions (or, and, not)\n",
    "\n",
    "or = at least one condition must be True\n",
    "and = both conditions must be True\n",
    "not = inverts the condition (not False, not True)"
   ]
  },
  {
   "cell_type": "markdown",
   "id": "c24ee760",
   "metadata": {},
   "source": [
    "## Conditional Expressions\n",
    "A one line shortcut for the if-else statement (ternary operator) \n",
    "<li>x if condition else y\n",
    "   "
   ]
  },
  {
   "cell_type": "code",
   "execution_count": 1,
   "id": "d2e3f217",
   "metadata": {},
   "outputs": [
    {
     "name": "stdout",
     "output_type": "stream",
     "text": [
      "Positive\n"
     ]
    }
   ],
   "source": [
    "num = 5\n",
    "print(\"Positive\" if num > 0 else \"Negative\")"
   ]
  },
  {
   "cell_type": "code",
   "execution_count": 4,
   "id": "489107d6",
   "metadata": {},
   "outputs": [
    {
     "name": "stdout",
     "output_type": "stream",
     "text": [
      "Odd\n"
     ]
    }
   ],
   "source": [
    "num =5\n",
    "result = \"Even\" if num%2==0 else \"Odd\"\n",
    "print(result)\n"
   ]
  },
  {
   "cell_type": "code",
   "execution_count": 7,
   "id": "9aca282d",
   "metadata": {},
   "outputs": [
    {
     "name": "stdout",
     "output_type": "stream",
     "text": [
      "Adult\n"
     ]
    }
   ],
   "source": [
    "age = 18\n",
    "status = \"Adult\" if age >=18 else \"child\"\n",
    "\n",
    "print(status)"
   ]
  },
  {
   "cell_type": "markdown",
   "id": "70b17285",
   "metadata": {},
   "source": [
    "## String Function"
   ]
  },
  {
   "cell_type": "code",
   "execution_count": 18,
   "id": "3477f418",
   "metadata": {},
   "outputs": [
    {
     "name": "stdout",
     "output_type": "stream",
     "text": [
      "15\n",
      "3\n",
      "12\n",
      "-1\n",
      "Jubayer hossain\n",
      "JUBAYER HOSSAIN\n",
      "jubayer hossain\n",
      "False\n",
      "False\n",
      "2\n",
      "01673777969\n"
     ]
    }
   ],
   "source": [
    "name = \"Jubayer Hossain\"\n",
    "phone = \"8801673777969\"\n",
    "print(len(name))\n",
    "print(name.find(\"a\")) #first occ\n",
    "print(name.rfind(\"a\")) #last occurance\n",
    "print(name.rfind(\"z\")) # no result = -1\n",
    "print(name.capitalize()) #  capitalize\n",
    "print(name.upper()) # full uppercase\n",
    "print(name.lower()) # full lowercase\n",
    "print(name.isdigit()) # is all digits\n",
    "print(name.isalpha()) # if symble -> is a false\n",
    "print(phone.count(\"6\")) # count\n",
    "print(phone.replace(\"88\", \"\")) # if symble -> is a false\n",
    "\n",
    "#print(help(str))\n",
    "\n",
    "\n"
   ]
  },
  {
   "cell_type": "markdown",
   "id": "ea4a73a2",
   "metadata": {},
   "source": [
    "## String Indexing\n",
    "accessing elements of a sequence using [start : end : step] indexing operator "
   ]
  },
  {
   "cell_type": "code",
   "execution_count": 28,
   "id": "adfa8901",
   "metadata": {},
   "outputs": [
    {
     "name": "stdout",
     "output_type": "stream",
     "text": [
      "1\n",
      "1234\n",
      "-5544-0982-4748\n",
      "4748\n",
      "7\n",
      "145-848\n",
      "XXXX-XXXX-XXXX-4748\n",
      "8474-2890-4455-4321\n"
     ]
    }
   ],
   "source": [
    "credit_number = \"1234-5544-0982-4748\"\n",
    "print(credit_number[0])\n",
    "print(credit_number[:4]) #first 4 digits\n",
    "print(credit_number[4:]) # from 5th to last\n",
    "print(credit_number[-4:]) # last 4 digit\n",
    "print(credit_number[-3]) # 3rd last digit\n",
    "\n",
    "#steps\n",
    "print(credit_number[::3]) # count every 3rd char form 1st\n",
    "\n",
    "#Onlyshowlast4 digits\n",
    "last_digits = credit_number[-4:]\n",
    "print(f\"XXXX-XXXX-XXXX-{last_digits}\")\n",
    "\n",
    "\n",
    "#REVERSE STRING:\n",
    "rev = credit_number[::-1]\n",
    "\n",
    "print(f\"{rev}\")\n",
    "\n"
   ]
  },
  {
   "cell_type": "markdown",
   "id": "f2080b10",
   "metadata": {},
   "source": [
    "# Format Specifier\n",
    "{value : flags} format a value based on what flags are inserted"
   ]
  },
  {
   "cell_type": "code",
   "execution_count": 16,
   "id": "dfeb5c2a",
   "metadata": {},
   "outputs": [
    {
     "name": "stdout",
     "output_type": "stream",
     "text": [
      "price 1 is $3.14\n",
      "price 2 is $   -965.54\n",
      "price 2 is $-000965.54\n",
      "price 3 is $12.34     \n",
      "price 3 is $-965.54   \n",
      "price 3 is $     12.34\n",
      "price 3 is $   -965.54\n",
      "price 3 is $+12.34\n",
      "price 3 is $-965.54\n",
      "price 3 is $+12.34\n",
      "price 3 is $-965.54\n"
     ]
    }
   ],
   "source": [
    "price1 = 3.1415\n",
    "price2 = -965.54\n",
    "price3 = 12.34\n",
    "\n",
    "print(f\"price 1 is ${price1:.2f}\") #2 decimal place flag by :.2f\n",
    "print(f\"price 2 is ${price2:10}\") #10 number space \n",
    "print(f\"price 2 is ${price2:010}\") #0 padded 10 number space \n",
    "print(f\"price 3 is ${price3:<10}\") #left justified\n",
    "print(f\"price 3 is ${price2:<10}\") #left justified\n",
    "print(f\"price 3 is ${price3:>10}\") #left right justified\n",
    "print(f\"price 3 is ${price2:>10}\") #left right justified\n",
    "print(f\"price 3 is ${price3:+}\") #add + before number\n",
    "print(f\"price 3 is ${price2:+}\") #add + before number\n",
    "print(f\"price 3 is ${price3:}\") #add - before number\n",
    "print(f\"price 3 is ${price2:-}\") #add - before number"
   ]
  },
  {
   "cell_type": "markdown",
   "id": "ce329232",
   "metadata": {},
   "source": [
    "# Excercises"
   ]
  },
  {
   "cell_type": "markdown",
   "id": "74b5c81a",
   "metadata": {},
   "source": [
    "## Excercise 1: Basic Calculator\n",
    "(using if, maths and arithmatics )"
   ]
  },
  {
   "cell_type": "code",
   "execution_count": 5,
   "id": "3e1f818b",
   "metadata": {},
   "outputs": [
    {
     "name": "stdout",
     "output_type": "stream",
     "text": [
      "Enter an operator (+ - * /): +\n",
      "Enter number1: 4\n",
      "Enter number2: 4\n",
      "result: 8.0\n"
     ]
    }
   ],
   "source": [
    "operator = input(\"Enter an operator (+ - * /): \")\n",
    "num1 = float(input(\"Enter number1: \"))\n",
    "num2 = float(input(\"Enter number2: \"))\n",
    "\n",
    "if operator == \"+\":   \n",
    "    result = num1+num2\n",
    "    print(f\"result: {round(result,3)}\")\n",
    "elif operator == \"-\":\n",
    "    result = num1-num2\n",
    "    print(f\"result: {round(result,3)}\")\n",
    "elif operator == \"*\":\n",
    "    result = num1*num2\n",
    "    print(f\"result: {round(result,3)}\")\n",
    "\n",
    "elif operator == \"/\":\n",
    "    result = num1/num2\n",
    "    print(f\"result: {round(result,3)}\")\n",
    "else:\n",
    "    print(\"Enter a valid operator\")\n",
    "    exit()\n"
   ]
  },
  {
   "cell_type": "markdown",
   "id": "88ca6d25",
   "metadata": {},
   "source": [
    "## Excercise 2: Python Weight Converter\n"
   ]
  },
  {
   "cell_type": "code",
   "execution_count": 9,
   "id": "faf9a08b",
   "metadata": {},
   "outputs": [
    {
     "name": "stdout",
     "output_type": "stream",
     "text": [
      "Enter weight: 78\n",
      "Kilograms or Pounds (K or L): K\n",
      "your weight is: 171.99Lbs\n"
     ]
    }
   ],
   "source": [
    "weight = float(input(\"Enter weight: \"))\n",
    "unit = input(\"Kilograms or Pounds (K or L): \")\n",
    "             \n",
    "if unit == \"K\":\n",
    "    weight = weight*2.205\n",
    "    unit = \"Lbs\"    \n",
    "    print(f\"your weight is: {weight}{unit}\")\n",
    "\n",
    "\n",
    "elif unit == \"L\":\n",
    "    weight = weight/2.205\n",
    "    unit = \"kg\"  \n",
    "    print(f\"your weight is: {weight}{unit}\")\n",
    "\n",
    "else: \n",
    "    print(\"Unit: {unit} not valid\")\n",
    "             \n",
    "             \n",
    "             "
   ]
  },
  {
   "cell_type": "markdown",
   "id": "1c5123ac",
   "metadata": {},
   "source": [
    "## Excercise 3: Temperature Converter \n"
   ]
  },
  {
   "cell_type": "code",
   "execution_count": 10,
   "id": "be981b44",
   "metadata": {},
   "outputs": [
    {
     "name": "stdout",
     "output_type": "stream",
     "text": [
      "Temperature unit (C or F): C\n",
      "Enter temperature: 25\n",
      "temperatur: 77.0°F\n"
     ]
    }
   ],
   "source": [
    "unit = input(\"Temperature unit (C or F): \")\n",
    "temp = float(input(\"Enter temperature: \"))\n",
    "\n",
    "if unit == \"C\":\n",
    "    temp = round((9*temp)/5+32,1)\n",
    "    print(f\"temperatur: {temp}°F\") #ALT + 0176\n",
    "elif unit == \"F\":\n",
    "    temp = round((temp-32)*5/9,1)\n",
    "    print(f\"temperatur: {temp}°C\")\n",
    "else:\n",
    "    print(\"wrong\")\n",
    "\n",
    "\n"
   ]
  },
  {
   "cell_type": "markdown",
   "id": "d8a80ab7",
   "metadata": {},
   "source": [
    "## Excercise 4:  Validate Username\n",
    "1. char limit = 12\n",
    "2. no space\n",
    "3. no digit"
   ]
  },
  {
   "cell_type": "code",
   "execution_count": 14,
   "id": "7b57752f",
   "metadata": {},
   "outputs": [
    {
     "name": "stdout",
     "output_type": "stream",
     "text": [
      "Please provide a username for this account: jubayerbro\n",
      "jubayerbro welcome\n"
     ]
    }
   ],
   "source": [
    "username = input(\"Please provide a username for this account: \")\n",
    "if int(len(username)) > 12:\n",
    "    print(f\"{username} is more than 12 char, can't accept\")\n",
    "elif not username.find(\" \") == -1:\n",
    "    print(f\"username has space\")\n",
    "elif username.isalpha() == False:\n",
    "    print(f\"username only contains alphabetical char\")\n",
    "else:\n",
    "    print(f\"{username} welcome\")\n",
    "    \n",
    "\n"
   ]
  },
  {
   "cell_type": "code",
   "execution_count": null,
   "id": "599f20a9",
   "metadata": {},
   "outputs": [],
   "source": []
  }
 ],
 "metadata": {
  "kernelspec": {
   "display_name": "Python 3 (ipykernel)",
   "language": "python",
   "name": "python3"
  },
  "language_info": {
   "codemirror_mode": {
    "name": "ipython",
    "version": 3
   },
   "file_extension": ".py",
   "mimetype": "text/x-python",
   "name": "python",
   "nbconvert_exporter": "python",
   "pygments_lexer": "ipython3",
   "version": "3.11.5"
  }
 },
 "nbformat": 4,
 "nbformat_minor": 5
}
