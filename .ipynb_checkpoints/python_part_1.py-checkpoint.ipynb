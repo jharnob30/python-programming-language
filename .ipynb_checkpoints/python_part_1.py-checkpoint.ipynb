{
 "cells": [
  {
   "cell_type": "markdown",
   "id": "f80989a5",
   "metadata": {},
   "source": [
    "# Learn\n",
    "<br/>\n",
    "<li> Variables - Type casting - Input Promt </li>\n",
    "<li> Arithmetic Operations - Operator Precedence\n",
    "<li> Math Functions </li>\n",
    "<li> If Statements </li>"
   ]
  },
  {
   "cell_type": "markdown",
   "id": "83bdac55",
   "metadata": {},
   "source": [
    "## Variables\n",
    "Varible = container for a value (string, integer, float, boolean)\n",
    "a variable behaves as if it was the value it contains"
   ]
  },
  {
   "cell_type": "markdown",
   "id": "4729d608",
   "metadata": {},
   "source": [
    "#### Strings"
   ]
  },
  {
   "cell_type": "code",
   "execution_count": 16,
   "id": "e9750b0d",
   "metadata": {},
   "outputs": [
    {
     "name": "stdout",
     "output_type": "stream",
     "text": [
      "hello Bro\n",
      "your email is arnob@bro.com\n"
     ]
    }
   ],
   "source": [
    "first_name = \"Arnob\"\n",
    "last_name = \"Bro\"\n",
    "email = \"arnob@bro.com\"\n",
    "\n",
    "print(f\"hello {last_name}\")\n",
    "print(f\"your email is {email}\")"
   ]
  },
  {
   "cell_type": "markdown",
   "id": "aeb3dbe8",
   "metadata": {},
   "source": [
    "#### Integer"
   ]
  },
  {
   "cell_type": "code",
   "execution_count": 12,
   "id": "0dfed8f3",
   "metadata": {},
   "outputs": [
    {
     "name": "stdout",
     "output_type": "stream",
     "text": [
      "you are 27\n",
      "you are buying 1 pizza\n"
     ]
    }
   ],
   "source": [
    "age = 27\n",
    "quantity = 1\n",
    "print(f\"you are {age}\")\n",
    "print(f\"you are buying {quantity} pizza\")\n"
   ]
  },
  {
   "cell_type": "markdown",
   "id": "26a7affd",
   "metadata": {},
   "source": [
    "#### Float"
   ]
  },
  {
   "cell_type": "code",
   "execution_count": 14,
   "id": "54cc4f26",
   "metadata": {
    "scrolled": true
   },
   "outputs": [
    {
     "name": "stdout",
     "output_type": "stream",
     "text": [
      "My cgpa is 3.5\n"
     ]
    }
   ],
   "source": [
    "CGPA = 3.5\n",
    "print(f\"My cgpa is {CGPA}\")"
   ]
  },
  {
   "cell_type": "markdown",
   "id": "98150f4e",
   "metadata": {},
   "source": [
    "#### Boolean"
   ]
  },
  {
   "cell_type": "code",
   "execution_count": 18,
   "id": "f4e3345b",
   "metadata": {
    "scrolled": false
   },
   "outputs": [
    {
     "name": "stdout",
     "output_type": "stream",
     "text": [
      "Let's find a job together\n",
      "You already own a job\n"
     ]
    }
   ],
   "source": [
    "is_job_holder = False\n",
    "if is_job_holder:\n",
    "    print(\"You already own a job\")\n",
    "else:\n",
    "    print(\"Let's find a job together\")\n",
    "    \n",
    "is_job_holder = True\n",
    "if is_job_holder:\n",
    "    print(\"You already own a job\")\n",
    "else:\n",
    "    print(\"Let's find a job together\")"
   ]
  },
  {
   "cell_type": "markdown",
   "id": "22ed1683",
   "metadata": {},
   "source": [
    "## Type casting\n",
    "Typecasting = The process of converting a variable from one data type to another str(), int(), float(), bool()\n"
   ]
  },
  {
   "cell_type": "code",
   "execution_count": 26,
   "id": "5f0c826a",
   "metadata": {},
   "outputs": [
    {
     "name": "stdout",
     "output_type": "stream",
     "text": [
      "3\n",
      "27.0\n",
      "3\n",
      "<class 'str'>\n",
      "31\n",
      "True\n",
      "False\n"
     ]
    }
   ],
   "source": [
    "name = \"Arnob Bro\"\n",
    "age = 27\n",
    "cgpa =3.5\n",
    "is_graduate = True\n",
    "\n",
    "cgpa = int(cgpa)\n",
    "print(cgpa)\n",
    "\n",
    "age = float(age)\n",
    "print(age)\n",
    "\n",
    "\n",
    "cgpa = str(cgpa)\n",
    "print(cgpa)\n",
    "#check string data type\n",
    "print(type(cgpa))\n",
    "#string adds as concatenate\n",
    "cgpa +=\"1\"\n",
    "print(cgpa)\n",
    "\n",
    "#true (not empty)\n",
    "name = bool(name)\n",
    "print(name)\n",
    "\n",
    "#false (empty)\n",
    "name = \"\"\n",
    "name = bool(name)\n",
    "print(name)"
   ]
  },
  {
   "cell_type": "markdown",
   "id": "d1f9081f",
   "metadata": {},
   "source": [
    "## Input Promt \n",
    "A Funtion that prompts the user to enter data and returns the entered string"
   ]
  },
  {
   "cell_type": "code",
   "execution_count": 5,
   "id": "90e00536",
   "metadata": {
    "scrolled": true
   },
   "outputs": [
    {
     "name": "stdout",
     "output_type": "stream",
     "text": [
      "What is your name?: bro\n",
      "Hello, bro\n",
      "How old are you?: 25\n",
      "So, your are going to be 26 this june, nice!\n"
     ]
    }
   ],
   "source": [
    "name = input(\"What is your name?: \")\n",
    "print(f\"Hello, {name}\")\n",
    "age = input(\"How old are you?: \")\n",
    "print(f\"So, your are going to be {int(age)+1} this june, nice!\") #used type cast"
   ]
  },
  {
   "cell_type": "markdown",
   "id": "b4268a84",
   "metadata": {},
   "source": [
    "## Arithmetic & Math"
   ]
  },
  {
   "cell_type": "markdown",
   "id": "6bb42b54",
   "metadata": {},
   "source": [
    "#### BASIC OPERATORS"
   ]
  },
  {
   "cell_type": "code",
   "execution_count": 41,
   "id": "59712e69",
   "metadata": {},
   "outputs": [
    {
     "name": "stdout",
     "output_type": "stream",
     "text": [
      "8\n",
      "2\n",
      "6\n",
      "3.0\n",
      "27.0\n",
      "3.0\n"
     ]
    }
   ],
   "source": [
    "friends = 0\n",
    "\n",
    "#Augmented assignment operator (BASIC OPERATORS)\n",
    "friends += 8  #friends = friends+8\n",
    "print(friends)\n",
    "friends -= 6  #friends = friends-6\n",
    "print(friends)\n",
    "friends *= 3  #friends = friends*3\n",
    "print(friends)\n",
    "friends /=2  #friends = friends/2\n",
    "print (friends)\n",
    "friends **=3 #friends = friends**3\n",
    "print (friends)\n",
    "friends %=4 #friends = friends%2 (MODULUS [REMIDNER OF DIVISION])\n",
    "print (friends)"
   ]
  },
  {
   "cell_type": "markdown",
   "id": "ff767338",
   "metadata": {},
   "source": [
    "#### Basic Math Operators"
   ]
  },
  {
   "cell_type": "code",
   "execution_count": 40,
   "id": "a471cf94",
   "metadata": {},
   "outputs": [
    {
     "name": "stdout",
     "output_type": "stream",
     "text": [
      "round 3\n",
      "abs 4\n",
      "power 125\n",
      "max 5\n",
      "min -4\n"
     ]
    }
   ],
   "source": [
    "x = 3.14\n",
    "y = -4\n",
    "z = 5\n",
    "result_round = round(x)\n",
    "result_abs = abs(y)\n",
    "result_pow = pow(z,3)\n",
    "result_max = max(x,y,z)\n",
    "result_min = min(x,y,z)\n",
    "\n",
    "print(f\"round {result_round}\")\n",
    "print(f\"abs {result_abs}\")\n",
    "print(f\"power {result_pow}\")\n",
    "print(f\"max {result_max}\")\n",
    "print(f\"min {result_min}\")"
   ]
  },
  {
   "cell_type": "markdown",
   "id": "447036ce",
   "metadata": {},
   "source": [
    "#### Basic Math Functions"
   ]
  },
  {
   "cell_type": "code",
   "execution_count": 51,
   "id": "2d155794",
   "metadata": {},
   "outputs": [
    {
     "name": "stdout",
     "output_type": "stream",
     "text": [
      "math.pi: 3.141592653589793\n",
      "math.e: 2.718281828459045\n",
      "math.sqrt 3.0495901363953815\n",
      "math.sqrt 9\n",
      "math.sqrt 10\n"
     ]
    }
   ],
   "source": [
    "import math\n",
    "x = 9.3\n",
    "\n",
    "print(f\"math.pi: {math.pi}\")\n",
    "print(f\"math.e: {math.e}\")\n",
    "result = math.sqrt(x)\n",
    "print(f\"math.sqrt {result}\")\n",
    "result = math.floor(x)\n",
    "print(f\"math.sqrt {result}\")\n",
    "result = math.ceil(x)\n",
    "print(f\"math.sqrt {result}\")"
   ]
  },
  {
   "cell_type": "code",
   "execution_count": null,
   "id": "bbaade45",
   "metadata": {},
   "outputs": [],
   "source": []
  },
  {
   "cell_type": "code",
   "execution_count": null,
   "id": "0bddd826",
   "metadata": {},
   "outputs": [],
   "source": []
  },
  {
   "cell_type": "markdown",
   "id": "a3b603c6",
   "metadata": {},
   "source": [
    "# Practice Excercises"
   ]
  },
  {
   "cell_type": "markdown",
   "id": "84ed5424",
   "metadata": {},
   "source": [
    "### Excercise 1 - Calculate Area of Rectangle \n",
    "(using input promt and variables + typecasting)"
   ]
  },
  {
   "cell_type": "code",
   "execution_count": 17,
   "id": "c227c0f2",
   "metadata": {},
   "outputs": [
    {
     "name": "stdout",
     "output_type": "stream",
     "text": [
      "Please add height of the rectangle in cm: 5\n",
      "Now add width of the rectangle in cm: 5\n",
      "area of the rectangle is 25.0 cm²\n"
     ]
    }
   ],
   "source": [
    "height = float(input(\"Please add height of the rectangle in cm: \"))\n",
    "width = float(input(\"Now add width of the rectangle in cm: \"))\n",
    "area = str(height*width)\n",
    "\n",
    "print(f\"area of the rectangle is {area} cm²\") \n",
    "#alt+0178 = sq sign"
   ]
  },
  {
   "cell_type": "markdown",
   "id": "ab0e25f1",
   "metadata": {},
   "source": [
    "### Excercise 2 - Shopping Cart Program\n",
    "(using item, price and quantity)"
   ]
  },
  {
   "cell_type": "code",
   "execution_count": 8,
   "id": "2aa9b9b7",
   "metadata": {},
   "outputs": [
    {
     "name": "stdout",
     "output_type": "stream",
     "text": [
      "what item do you want?: Egg\n",
      "what is the price?: 12\n",
      "how many? 12\n",
      "You have bought Egg x 12 for 12.0 taka each\n",
      "total price is 144.0 taka\n"
     ]
    }
   ],
   "source": [
    "item = input(\"what item do you want?: \")\n",
    "price = float(input(\"what is the price?: \"))\n",
    "quantity = int(input(\"how many? \"))\n",
    "\n",
    "total = price*float(quantity)\n",
    "\n",
    "print(f\"You have bought {item} x {quantity} for {price} taka each\")\n",
    "print(f\"total price is {total} taka\")"
   ]
  },
  {
   "cell_type": "markdown",
   "id": "2480eac1",
   "metadata": {},
   "source": [
    "### Excercise 3 - Madlib game***"
   ]
  },
  {
   "cell_type": "code",
   "execution_count": 15,
   "id": "0c6d5214",
   "metadata": {},
   "outputs": [
    {
     "name": "stdout",
     "output_type": "stream",
     "text": [
      "Add a verb: Run\n",
      "Add a noun Monkey\n",
      "Add a verb: Eat\n",
      "Add a verb: Cry\n",
      "Add a word with ing: Hearing\n",
      "add a verb: n/Wash\n",
      "See your madlib\n",
      "Maybe I don't really wanna Run\n",
      "How your Monkey grows\n",
      "Cause I just wanna Eat\n",
      "Lately, did you ever feel the Cry\n",
      "In the Hearing rain\n",
      "As it Wash you to the bone?\n"
     ]
    }
   ],
   "source": [
    "a_verb = input(\"Add a verb: \")\n",
    "b_noun = input(\"Add a noun \")\n",
    "c_verb = input(\"Add a verb: \")\n",
    "d_verb = input(\"Add a verb: \")\n",
    "e_word = input(\"Add a word with ing: \")\n",
    "f_verb = input(\"add a verb: \")\n",
    "\n",
    "print(\"See your madlib\")\n",
    "print(f\"Maybe I don't really wanna {a_verb}\")\n",
    "print(f\"How your {b_noun} grows\")\n",
    "print(f\"Cause I just wanna {c_verb}\")\n",
    "print(f\"Lately, did you ever feel the {d_verb}\")\n",
    "print(f\"In the {e_word} rain\")\n",
    "print(f\"As it {f_verb} you to the bone?\")"
   ]
  },
  {
   "cell_type": "markdown",
   "id": "b026857e",
   "metadata": {},
   "source": [
    "### Excercise 4 - Calculate circumference of circle (C=2*Pi*r)"
   ]
  },
  {
   "cell_type": "code",
   "execution_count": 66,
   "id": "77515531",
   "metadata": {},
   "outputs": [
    {
     "name": "stdout",
     "output_type": "stream",
     "text": [
      "add radius: 11\n",
      "circumference of circle is: 69.12 unit\n"
     ]
    }
   ],
   "source": [
    "radius  = float(input(\"add radius: \"))\n",
    "pi = math.pi\n",
    "\n",
    "circle_c = 2*pi*radius\n",
    "print(f\"circumference of circle is: {round(circle_c,2)} unit\") #round with 2 dec"
   ]
  },
  {
   "cell_type": "markdown",
   "id": "190f974e",
   "metadata": {},
   "source": [
    "### Excercise 5 - Calculate Area of a circle"
   ]
  },
  {
   "cell_type": "code",
   "execution_count": 69,
   "id": "6df9e912",
   "metadata": {},
   "outputs": [
    {
     "name": "stdout",
     "output_type": "stream",
     "text": [
      "add radius: 7\n",
      "circumference of circle is: 153.94 unit²\n"
     ]
    }
   ],
   "source": [
    "radius  = float(input(\"add radius: \"))\n",
    "pi = math.pi\n",
    "\n",
    "circle_a = pi*pow(radius,2)\n",
    "print(f\"circumference of circle is: {round(circle_a,2)} unit²\") #round with 2 dec"
   ]
  },
  {
   "cell_type": "markdown",
   "id": "5f2d049a",
   "metadata": {},
   "source": [
    "### Excercise 6 - Calculate hippopotamus of a triangle"
   ]
  },
  {
   "cell_type": "code",
   "execution_count": 71,
   "id": "4e0f1ab5",
   "metadata": {},
   "outputs": [
    {
     "name": "stdout",
     "output_type": "stream",
     "text": [
      "Enter side A: 4\n",
      "Enter side B: 5\n",
      "side c = 6.4031242374328485\n"
     ]
    }
   ],
   "source": [
    "import math\n",
    "\n",
    "a = float(input(\"Enter side A: \"))\n",
    "b = float(input(\"Enter side B: \"))\n",
    "c = math.sqrt(pow(a,2)+pow(b,2))\n",
    "\n",
    "print(f\"side c = {c}\")"
   ]
  },
  {
   "cell_type": "code",
   "execution_count": null,
   "id": "9aa024ec",
   "metadata": {},
   "outputs": [],
   "source": []
  }
 ],
 "metadata": {
  "kernelspec": {
   "display_name": "Python 3 (ipykernel)",
   "language": "python",
   "name": "python3"
  },
  "language_info": {
   "codemirror_mode": {
    "name": "ipython",
    "version": 3
   },
   "file_extension": ".py",
   "mimetype": "text/x-python",
   "name": "python",
   "nbconvert_exporter": "python",
   "pygments_lexer": "ipython3",
   "version": "3.11.5"
  }
 },
 "nbformat": 4,
 "nbformat_minor": 5
}
