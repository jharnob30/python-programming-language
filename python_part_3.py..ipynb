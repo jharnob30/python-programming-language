{
 "cells": [
  {
   "cell_type": "markdown",
   "id": "84b68223",
   "metadata": {},
   "source": [
    "# Learn\n",
    "1. while loops\n",
    "2. For loops\n",
    "3. Nested Loops\n",
    "4. Collections (List)\n",
    "5. Collections (Set)\n",
    "6. Collections (Tuple)\n"
   ]
  },
  {
   "cell_type": "markdown",
   "id": "2a287925",
   "metadata": {},
   "source": [
    "## While Loop\n",
    "\n",
    "execute some code WHILE some condition remains true\n"
   ]
  },
  {
   "cell_type": "code",
   "execution_count": 1,
   "id": "2e36f22b",
   "metadata": {},
   "outputs": [
    {
     "name": "stdout",
     "output_type": "stream",
     "text": [
      "enter your name: \n",
      "you did not enter proper name\n",
      "enter your name: \n",
      "you did not enter proper name\n",
      "enter your name: \n",
      "you did not enter proper name\n",
      "enter your name: \n",
      "you did not enter proper name\n",
      "enter your name: \n",
      "you did not enter proper name\n",
      "enter your name: yo\n",
      "Hello yo\n"
     ]
    }
   ],
   "source": [
    "name = input(\"enter your name: \")\n",
    "\n",
    "while name == \"\":\n",
    "    print(\"you did not enter proper name\")\n",
    "    name = input(\"enter your name: \")\n",
    "print(f\"Hello {name}\")"
   ]
  },
  {
   "cell_type": "code",
   "execution_count": 5,
   "id": "4dbae0c2",
   "metadata": {},
   "outputs": [
    {
     "name": "stdout",
     "output_type": "stream",
     "text": [
      "enter your age: -9\n",
      "you did not enter proper age\n",
      "enter your age: 101\n",
      "you did not enter proper age\n",
      "enter your age: 100\n",
      "so you are 100\n"
     ]
    }
   ],
   "source": [
    "age = int(input(\"enter your age: \"))\n",
    "while age < 0 or age > 100:\n",
    "    print(\"you did not enter proper age\")\n",
    "    age = int(input(\"enter your age: \"))\n",
    "print(f\"so you are {age}\")"
   ]
  },
  {
   "cell_type": "code",
   "execution_count": 8,
   "id": "a6af2975",
   "metadata": {},
   "outputs": [
    {
     "name": "stdout",
     "output_type": "stream",
     "text": [
      "enter your food name (q to quit): pizza\n",
      "you are what you eat, like you said pizza\n",
      "enter your food name (q to quit): meatbox\n",
      "you are what you eat, like you said meatbox\n",
      "enter your food name (q to quit): chickenfry\n",
      "you are what you eat, like you said chickenfry\n",
      "enter your food name (q to quit): q\n",
      "Bye\n"
     ]
    }
   ],
   "source": [
    "food = input(\"enter your food name (q to quit): \")\n",
    "while not food == \"q\":\n",
    "    print(f\"you are what you eat, like you said {food}\")\n",
    "    food = input(\"enter your food name (q to quit): \")\n",
    "\n",
    "print(\"Bye\")"
   ]
  },
  {
   "cell_type": "code",
   "execution_count": 12,
   "id": "23c84640",
   "metadata": {},
   "outputs": [
    {
     "name": "stdout",
     "output_type": "stream",
     "text": [
      "Enter a # between 1-10: 11\n",
      "11 no valid\n",
      "Enter a # between 1-10: -2\n",
      "-2 no valid\n",
      "Enter a # between 1-10: 16\n",
      "16 no valid\n",
      "Enter a # between 1-10: 3\n",
      "you enterd 3\n"
     ]
    }
   ],
   "source": [
    "#or logical operator with while\n",
    "\n",
    "num = int(input(\"Enter a # between 1-10: \"))\n",
    "while num < 1 or num > 10:\n",
    "    print(f\"{num} no valid\")\n",
    "    num = int(input(\"Enter a # between 1-10: \"))\n",
    "print(f\"you enterd {num}\")\n",
    "          "
   ]
  },
  {
   "cell_type": "markdown",
   "id": "04a73ec5",
   "metadata": {},
   "source": [
    "## For Loops\n",
    "execute a block of codes for fixed number of times"
   ]
  },
  {
   "cell_type": "code",
   "execution_count": 11,
   "id": "88c8b4b6",
   "metadata": {},
   "outputs": [
    {
     "name": "stdout",
     "output_type": "stream",
     "text": [
      "1\n",
      "2\n",
      "3\n",
      "4\n",
      "4\n",
      "3\n",
      "2\n",
      "1\n",
      "1\n",
      "3\n",
      "5\n",
      "7\n",
      "9\n",
      "x\n",
      "xxxx\n",
      "xxxxxxx\n",
      "xxxxxxxxxx\n",
      "xxxxxxxxxxxxx\n",
      "xxxxxxxxxxxxxxxx\n",
      "xxxxxxxxxxxxxxxx\n",
      "xxxxxxxxxxxxx\n",
      "xxxxxxxxxx\n",
      "xxxxxxx\n",
      "xxxx\n",
      "x\n",
      "HNY\n"
     ]
    }
   ],
   "source": [
    "for x in range(1,5): #1 to 10\n",
    "    print(x)\n",
    "for x in reversed(range(1,5)): #reversed print \n",
    "    print(x)\n",
    "for x in range(1,11,2): #1 to 10 to skip steps\n",
    "    print(x)\n",
    "for x in range(1,18,3): #1 to 10 to skip steps\n",
    "    print(x*\"x\")\n",
    "for x in reversed(range(1,18,3)): #reversed print \n",
    "    print(x*\"x\")\n",
    "print(\"HNY\")"
   ]
  },
  {
   "cell_type": "code",
   "execution_count": 14,
   "id": "81def0b5",
   "metadata": {},
   "outputs": [
    {
     "name": "stdout",
     "output_type": "stream",
     "text": [
      "1\n",
      "2\n",
      "4\n",
      "5\n",
      "HNY\n"
     ]
    }
   ],
   "source": [
    "for x in range(1,6): #reversed print \n",
    "    if x == 3:\n",
    "        continue #continue to skip\n",
    "    print(x)\n",
    "print(\"HNY\")"
   ]
  },
  {
   "cell_type": "markdown",
   "id": "ec24de32",
   "metadata": {},
   "source": [
    "## Nested Loops\n",
    "\n",
    "loop within another loop\n",
    "\n"
   ]
  },
  {
   "cell_type": "code",
   "execution_count": 6,
   "id": "5ed791ef",
   "metadata": {},
   "outputs": [
    {
     "name": "stdout",
     "output_type": "stream",
     "text": [
      "1-2-3-4-5-6-7-8-9-"
     ]
    }
   ],
   "source": [
    "for x in range (1,10):\n",
    "    print(x, end=\"-\") #end can put all outputs in one line "
   ]
  },
  {
   "cell_type": "code",
   "execution_count": 13,
   "id": "be862e2d",
   "metadata": {},
   "outputs": [
    {
     "name": "stdout",
     "output_type": "stream",
     "text": [
      "012345678901234567890123456789"
     ]
    }
   ],
   "source": [
    "for x in range (3):\n",
    "    for y in range (10):\n",
    "        print(y, end=\"\")"
   ]
  },
  {
   "cell_type": "code",
   "execution_count": 17,
   "id": "7bbfe7d4",
   "metadata": {},
   "outputs": [
    {
     "name": "stdout",
     "output_type": "stream",
     "text": [
      "0000000000\n",
      "1111111111\n",
      "2222222222\n"
     ]
    }
   ],
   "source": [
    "for x in range (3):\n",
    "    for Y in range (10):\n",
    "        print(x, end=\"\")\n",
    "    print()"
   ]
  },
  {
   "cell_type": "code",
   "execution_count": 19,
   "id": "a883b7ae",
   "metadata": {},
   "outputs": [
    {
     "name": "stdout",
     "output_type": "stream",
     "text": [
      "Enter # of rows: 4\n",
      "Enter # of cols: 6\n",
      "enter symbol: +\n",
      "++++++\n",
      "++++++\n",
      "++++++\n",
      "++++++\n"
     ]
    }
   ],
   "source": [
    "rows = int(input(\"Enter # of rows: \"))\n",
    "cols = int(input(\"Enter # of cols: \"))\n",
    "symbol = input(\"enter symbol: \")\n",
    "\n",
    "for x in range (rows):\n",
    "    for y in range (cols):\n",
    "        print(symbol, end=\"\")\n",
    "    print()"
   ]
  },
  {
   "cell_type": "markdown",
   "id": "72ba9b7c",
   "metadata": {},
   "source": [
    "# Collections\n",
    "collection is single varibale used to store multiple values\n",
    "1. List\n",
    "2. Set\n",
    "3. Typle"
   ]
  },
  {
   "cell_type": "markdown",
   "id": "feb3a5b7",
   "metadata": {},
   "source": [
    "# Practices\n"
   ]
  },
  {
   "cell_type": "markdown",
   "id": "f6fb953f",
   "metadata": {},
   "source": [
    "## Example 1 - Compound interest calculater using while loop"
   ]
  },
  {
   "cell_type": "code",
   "execution_count": 7,
   "id": "53c98399",
   "metadata": {},
   "outputs": [
    {
     "name": "stdout",
     "output_type": "stream",
     "text": [
      "user please enter your rate amound: 5000\n",
      "user please enter interest rate: 7\n",
      "user please enter year: 2\n",
      "balance after 2.0 year/s: total 5724.5bdt\n"
     ]
    }
   ],
   "source": [
    "principle = 0\n",
    "time = 0\n",
    "rate = 0\n",
    "\n",
    "while principle <= 0:\n",
    "              principle = float(input(f\"user please enter your rate amound: \"))\n",
    "              if principle <= 0:\n",
    "                  print(\"principle cant be zero or less\")\n",
    "while rate <= 0:\n",
    "              rate = float(input(f\"user please enter interest rate: \"))\n",
    "              if rate <= 0:\n",
    "                  print(\"rate cant be zero or less\")  \n",
    "\n",
    "while time <= 0:\n",
    "              time = float(input(f\"user please enter year: \"))\n",
    "              if time <= 0:\n",
    "                  print(\"time cant be zero or less\")                      \n",
    "total = principle*pow((1+rate/100),time)          \n",
    "print(f\"balance after {time} year/s: total {total}bdt\")                 \n",
    "    \n"
   ]
  },
  {
   "cell_type": "markdown",
   "id": "0683f919",
   "metadata": {},
   "source": [
    "## Countdown timer using loops"
   ]
  },
  {
   "cell_type": "code",
   "execution_count": 19,
   "id": "0fcc5065",
   "metadata": {},
   "outputs": [
    {
     "name": "stdout",
     "output_type": "stream",
     "text": [
      "3 secs\n"
     ]
    }
   ],
   "source": [
    "import time\n",
    "time.sleep(3)\n",
    "print(\"3 secs\") # 3 secs stop watch python function demo"
   ]
  },
  {
   "cell_type": "code",
   "execution_count": 25,
   "id": "4498b9b1",
   "metadata": {},
   "outputs": [
    {
     "name": "stdout",
     "output_type": "stream",
     "text": [
      "enter time in seconds: 3\n",
      "0\n",
      "1\n",
      "2\n",
      "It's 3 seconds, time's up\n"
     ]
    }
   ],
   "source": [
    "my_time = int(input(\"enter time in seconds: \"))\n",
    "for x in range(0, my_time):\n",
    "    print(x)\n",
    "    time.sleep(1)\n",
    "print(f\"It's {my_time} seconds, time's up\")"
   ]
  },
  {
   "cell_type": "code",
   "execution_count": 26,
   "id": "ceeb91bf",
   "metadata": {},
   "outputs": [
    {
     "name": "stdout",
     "output_type": "stream",
     "text": [
      "enter time in seconds: 5\n",
      "5\n",
      "4\n",
      "3\n",
      "2\n",
      "1\n",
      "It's 5 seconds, time's up\n"
     ]
    }
   ],
   "source": [
    "my_time = int(input(\"enter time in seconds: \"))\n",
    "for x in range(my_time, 0, -1): #using steps\n",
    "    print(x)\n",
    "    time.sleep(1)\n",
    "print(f\"It's {my_time} seconds, time's up\")"
   ]
  },
  {
   "cell_type": "code",
   "execution_count": 27,
   "id": "337ec30f",
   "metadata": {},
   "outputs": [
    {
     "name": "stdout",
     "output_type": "stream",
     "text": [
      "enter time in seconds: 11\n",
      "00:00:11\n",
      "00:00:10\n",
      "00:00:09\n",
      "00:00:08\n",
      "00:00:07\n",
      "00:00:06\n",
      "00:00:05\n",
      "00:00:04\n",
      "00:00:03\n",
      "00:00:02\n",
      "00:00:01\n",
      "It's 11 seconds, time's up\n"
     ]
    }
   ],
   "source": [
    "my_time = int(input(\"enter time in seconds: \"))\n",
    "\n",
    "for x in range(my_time, 0, -1): #using steps\n",
    "    seconds = x % 60 \n",
    "    print(f\"00:00:{seconds:02}\") #format specifier to pad 00 sec\n",
    "    time.sleep(1)\n",
    "print(f\"It's {my_time} seconds, time's up\")"
   ]
  },
  {
   "cell_type": "code",
   "execution_count": null,
   "id": "bdf7ad9c",
   "metadata": {},
   "outputs": [],
   "source": []
  }
 ],
 "metadata": {
  "kernelspec": {
   "display_name": "Python 3 (ipykernel)",
   "language": "python",
   "name": "python3"
  },
  "language_info": {
   "codemirror_mode": {
    "name": "ipython",
    "version": 3
   },
   "file_extension": ".py",
   "mimetype": "text/x-python",
   "name": "python",
   "nbconvert_exporter": "python",
   "pygments_lexer": "ipython3",
   "version": "3.11.5"
  }
 },
 "nbformat": 4,
 "nbformat_minor": 5
}
